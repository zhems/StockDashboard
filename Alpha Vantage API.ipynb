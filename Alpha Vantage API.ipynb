{
 "cells": [
  {
   "cell_type": "code",
   "execution_count": 24,
   "id": "109e2b47",
   "metadata": {},
   "outputs": [],
   "source": [
    "import requests\n",
    "import pandas as pd\n",
    "import datetime\n",
    "\n",
    "key = 'XCMSFDTYUZGLCJBS'"
   ]
  },
  {
   "cell_type": "code",
   "execution_count": 5,
   "id": "b73751d7",
   "metadata": {},
   "outputs": [],
   "source": [
    "# replace the \"demo\" apikey below with your own key from https://www.alphavantage.co/support/#api-key\n",
    "url = f'https://www.alphavantage.co/query?function=SYMBOL_SEARCH&keywords=Nintendo&apikey={key}'\n",
    "r = requests.get(url)\n",
    "data = r.json()"
   ]
  },
  {
   "cell_type": "code",
   "execution_count": 108,
   "id": "ce47bb81",
   "metadata": {},
   "outputs": [],
   "source": [
    "symbol = 'TSLA'"
   ]
  },
  {
   "cell_type": "code",
   "execution_count": 109,
   "id": "16f714e6",
   "metadata": {},
   "outputs": [],
   "source": [
    "# replace the \"demo\" apikey below with your own key from https://www.alphavantage.co/support/#api-key\n",
    "url = f'https://www.alphavantage.co/query?function=TIME_SERIES_DAILY&symbol={symbol}&outputsize=full&apikey={key}'\n",
    "r = requests.get(url)\n",
    "data = r.json()"
   ]
  },
  {
   "cell_type": "code",
   "execution_count": 110,
   "id": "5906c0eb",
   "metadata": {},
   "outputs": [
    {
     "data": {
      "text/plain": [
       "2"
      ]
     },
     "execution_count": 110,
     "metadata": {},
     "output_type": "execute_result"
    }
   ],
   "source": [
    "len(data)"
   ]
  },
  {
   "cell_type": "code",
   "execution_count": 111,
   "id": "53e8e6be",
   "metadata": {},
   "outputs": [
    {
     "data": {
      "text/plain": [
       "dict_keys(['Meta Data', 'Time Series (Daily)'])"
      ]
     },
     "execution_count": 111,
     "metadata": {},
     "output_type": "execute_result"
    }
   ],
   "source": [
    "data.keys()"
   ]
  },
  {
   "cell_type": "code",
   "execution_count": 112,
   "id": "568320a0",
   "metadata": {},
   "outputs": [],
   "source": [
    "df = pd.DataFrame.from_dict(data['Time Series (Daily)']).transpose()\n",
    "df= df.astype('float')\n",
    "df['Date'] = df.apply(lambda row: datetime.datetime.strptime(row.name, '%Y-%m-%d'),axis=1)\n",
    "df['Day'] = df.apply(lambda row: row['Date'].strftime('%A'),axis=1)\n",
    "df = df.reset_index(drop=True)\n",
    "df['Delta'] = df.apply(lambda row: row['4. close']-row['1. open'],axis=1)\n",
    "df['Delta %'] = df.apply(lambda row: row['Delta']/row['1. open']*100,axis=1)\n",
    "\n",
    "df['Time Delta'] = df.apply(lambda row: (df.loc[0,'Date']-row['Date']).days,axis=1)\n",
    "df['Time Delta'] = df.iloc[-1,9]-df['Time Delta']\n",
    "df['DeltaW'] = df.apply(lambda row: row['4. close']-row['1. open'],axis=1)\n",
    "df['DeltaW %'] = df.apply(lambda row: row['Delta']/row['1. open']*100,axis=1)\n",
    "df['DeltaW %'] = df['DeltaW %']*df['Time Delta']"
   ]
  },
  {
   "cell_type": "code",
   "execution_count": 113,
   "id": "7e76c54e",
   "metadata": {},
   "outputs": [
    {
     "data": {
      "text/plain": [
       "Day\n",
       "Friday      -0.161222\n",
       "Monday       0.332423\n",
       "Thursday    -0.061355\n",
       "Tuesday      0.107302\n",
       "Wednesday    0.000407\n",
       "Name: Delta %, dtype: float64"
      ]
     },
     "execution_count": 113,
     "metadata": {},
     "output_type": "execute_result"
    }
   ],
   "source": [
    "agg_df = df.groupby('Day').mean()['Delta %']\n",
    "agg_df"
   ]
  },
  {
   "cell_type": "code",
   "execution_count": 114,
   "id": "ea4ea69a",
   "metadata": {},
   "outputs": [
    {
     "data": {
      "text/plain": [
       "Day\n",
       "Friday      -0.139993\n",
       "Monday       0.560769\n",
       "Thursday    -0.034076\n",
       "Tuesday      0.038871\n",
       "Wednesday    0.028535\n",
       "dtype: float64"
      ]
     },
     "execution_count": 114,
     "metadata": {},
     "output_type": "execute_result"
    }
   ],
   "source": [
    "agg_df2 = df.groupby('Day').sum()[['Time Delta','DeltaW %']]\n",
    "agg_df2 = agg_df2['DeltaW %']/agg_df2['Time Delta']\n",
    "agg_df2"
   ]
  },
  {
   "cell_type": "code",
   "execution_count": 115,
   "id": "10abde5e",
   "metadata": {},
   "outputs": [],
   "source": [
    "symbols = ['AMZN', 'NFLX', 'BABA', 'SPOT', 'JD', 'TSLA', 'SBUX', 'FB', 'AAPL', 'GSK', 'UA', 'NTDOY','PM', 'GOOG', 'TTWO', 'EA', 'ATVI']"
   ]
  },
  {
   "cell_type": "code",
   "execution_count": 116,
   "id": "1a930d30",
   "metadata": {},
   "outputs": [
    {
     "data": {
      "text/html": [
       "<div>\n",
       "<style scoped>\n",
       "    .dataframe tbody tr th:only-of-type {\n",
       "        vertical-align: middle;\n",
       "    }\n",
       "\n",
       "    .dataframe tbody tr th {\n",
       "        vertical-align: top;\n",
       "    }\n",
       "\n",
       "    .dataframe thead th {\n",
       "        text-align: right;\n",
       "    }\n",
       "</style>\n",
       "<table border=\"1\" class=\"dataframe\">\n",
       "  <thead>\n",
       "    <tr style=\"text-align: right;\">\n",
       "      <th></th>\n",
       "      <th>Friday</th>\n",
       "      <th>Monday</th>\n",
       "      <th>Thursday</th>\n",
       "      <th>Tuesday</th>\n",
       "      <th>Wednesday</th>\n",
       "    </tr>\n",
       "  </thead>\n",
       "  <tbody>\n",
       "    <tr>\n",
       "      <th>Delta %</th>\n",
       "      <td>-0.161222</td>\n",
       "      <td>0.332423</td>\n",
       "      <td>-0.061355</td>\n",
       "      <td>0.107302</td>\n",
       "      <td>0.000407</td>\n",
       "    </tr>\n",
       "    <tr>\n",
       "      <th>Delta %</th>\n",
       "      <td>-0.161222</td>\n",
       "      <td>0.332423</td>\n",
       "      <td>-0.061355</td>\n",
       "      <td>0.107302</td>\n",
       "      <td>0.000407</td>\n",
       "    </tr>\n",
       "  </tbody>\n",
       "</table>\n",
       "</div>"
      ],
      "text/plain": [
       "           Friday    Monday  Thursday   Tuesday  Wednesday\n",
       "Delta % -0.161222  0.332423 -0.061355  0.107302   0.000407\n",
       "Delta % -0.161222  0.332423 -0.061355  0.107302   0.000407"
      ]
     },
     "execution_count": 116,
     "metadata": {},
     "output_type": "execute_result"
    }
   ],
   "source": [
    "df2 = pd.DataFrame()\n",
    "df2 =df2.append(agg_df)\n",
    "df2 = df2.append(agg_df)\n",
    "df2"
   ]
  },
  {
   "cell_type": "code",
   "execution_count": 117,
   "id": "b9a53c84",
   "metadata": {},
   "outputs": [],
   "source": [
    "df2['stocks'] = ['fsd','fsdf']"
   ]
  },
  {
   "cell_type": "code",
   "execution_count": 118,
   "id": "6539081a",
   "metadata": {},
   "outputs": [
    {
     "data": {
      "text/html": [
       "<div>\n",
       "<style scoped>\n",
       "    .dataframe tbody tr th:only-of-type {\n",
       "        vertical-align: middle;\n",
       "    }\n",
       "\n",
       "    .dataframe tbody tr th {\n",
       "        vertical-align: top;\n",
       "    }\n",
       "\n",
       "    .dataframe thead th {\n",
       "        text-align: right;\n",
       "    }\n",
       "</style>\n",
       "<table border=\"1\" class=\"dataframe\">\n",
       "  <thead>\n",
       "    <tr style=\"text-align: right;\">\n",
       "      <th></th>\n",
       "      <th>Friday</th>\n",
       "      <th>Monday</th>\n",
       "      <th>Thursday</th>\n",
       "      <th>Tuesday</th>\n",
       "      <th>Wednesday</th>\n",
       "    </tr>\n",
       "  </thead>\n",
       "  <tbody>\n",
       "    <tr>\n",
       "      <th>0</th>\n",
       "      <td>-0.139993</td>\n",
       "      <td>0.560769</td>\n",
       "      <td>-0.034076</td>\n",
       "      <td>0.038871</td>\n",
       "      <td>0.028535</td>\n",
       "    </tr>\n",
       "    <tr>\n",
       "      <th>1</th>\n",
       "      <td>-0.139993</td>\n",
       "      <td>0.560769</td>\n",
       "      <td>-0.034076</td>\n",
       "      <td>0.038871</td>\n",
       "      <td>0.028535</td>\n",
       "    </tr>\n",
       "  </tbody>\n",
       "</table>\n",
       "</div>"
      ],
      "text/plain": [
       "     Friday    Monday  Thursday   Tuesday  Wednesday\n",
       "0 -0.139993  0.560769 -0.034076  0.038871   0.028535\n",
       "1 -0.139993  0.560769 -0.034076  0.038871   0.028535"
      ]
     },
     "execution_count": 118,
     "metadata": {},
     "output_type": "execute_result"
    }
   ],
   "source": [
    "df3 = pd.DataFrame()\n",
    "df3 =df3.append(agg_df2,ignore_index=True)\n",
    "df3 = df3.append(agg_df2,ignore_index=True)\n",
    "df3"
   ]
  },
  {
   "cell_type": "code",
   "execution_count": 99,
   "id": "13eaee56",
   "metadata": {},
   "outputs": [
    {
     "data": {
      "text/plain": [
       "[1]"
      ]
     },
     "execution_count": 99,
     "metadata": {},
     "output_type": "execute_result"
    }
   ],
   "source": [
    "a = []\n",
    "a.append(1)\n",
    "a"
   ]
  },
  {
   "cell_type": "code",
   "execution_count": null,
   "id": "ab71a0ac",
   "metadata": {},
   "outputs": [],
   "source": []
  }
 ],
 "metadata": {
  "kernelspec": {
   "display_name": "Python 3",
   "language": "python",
   "name": "python3"
  },
  "language_info": {
   "codemirror_mode": {
    "name": "ipython",
    "version": 3
   },
   "file_extension": ".py",
   "mimetype": "text/x-python",
   "name": "python",
   "nbconvert_exporter": "python",
   "pygments_lexer": "ipython3",
   "version": "3.8.8"
  }
 },
 "nbformat": 4,
 "nbformat_minor": 5
}
